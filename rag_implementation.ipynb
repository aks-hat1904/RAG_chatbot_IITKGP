{
 "cells": [
  {
   "cell_type": "code",
   "execution_count": 1,
   "id": "f3d44860",
   "metadata": {},
   "outputs": [
    {
     "data": {
      "text/plain": [
       "True"
      ]
     },
     "execution_count": 1,
     "metadata": {},
     "output_type": "execute_result"
    }
   ],
   "source": [
    "import os\n",
    "from dotenv import load_dotenv\n",
    "\n",
    "load_dotenv()  # Loads variables from .env into environment"
   ]
  },
  {
   "cell_type": "code",
   "execution_count": 2,
   "id": "ecca0f24",
   "metadata": {},
   "outputs": [],
   "source": [
    "client_id = os.getenv(\"REDDIT_CLIENT_ID\")\n",
    "client_secret = os.getenv(\"REDDIT_CLIENT_SECRET\")\n",
    "user_agent = os.getenv(\"REDDIT_USER_AGENT\")\n",
    "username = os.getenv(\"REDDIT_USERNAME\")\n",
    "password = os.getenv(\"REDDIT_PASSWORD\")\n",
    "api_key = os.getenv(\"OPENAI_API_KEY\")"
   ]
  },
  {
   "cell_type": "code",
   "execution_count": 3,
   "id": "d47b211e",
   "metadata": {},
   "outputs": [],
   "source": [
    "import praw\n",
    "\n",
    "reddit = praw.Reddit(\n",
    "    client_id=client_id,\n",
    "    client_secret=client_secret,\n",
    "    user_agent=user_agent,\n",
    "    username=username,\n",
    "    password=password\n",
    ")"
   ]
  },
  {
   "cell_type": "code",
   "execution_count": 4,
   "id": "33195c7b",
   "metadata": {},
   "outputs": [
    {
     "name": "stdout",
     "output_type": "stream",
     "text": [
      "['Bakar :doge:', 'Funda :snoo_dealwithit:', 'Request :illuminati:', 'ModPost :snoo_facepalm:', 'Photography 📷', 'KGP News 📰', 'AskKGP 👀', 'ShitPost💩', 'Subject Reviews &#10002;&#65039;', 'Non-Vague JEE Questions']\n"
     ]
    }
   ],
   "source": [
    "subreddit_name = \"iitkgp\"  # Replace with your target subreddit\n",
    "subreddit = reddit.subreddit(subreddit_name)\n",
    "\n",
    "# Get all flair templates for posts (link flairs)\n",
    "flairs = []\n",
    "for flair in subreddit.flair.link_templates:\n",
    "    flairs.append(flair['text'])\n",
    "\n",
    "print(flairs)"
   ]
  },
  {
   "cell_type": "code",
   "execution_count": 5,
   "id": "8f9cb124",
   "metadata": {},
   "outputs": [],
   "source": [
    "subreddit = \"iitkgp\"  # Replace with your target subreddit\n",
    "min_upvotes = 10  # Set your upvote threshold\n",
    "target_flairs = [\"Funda :snoo_dealwithit:\", \"KGP News 📰\", \"Subject Reviews &#10002;&#65039;\", \"AskKGP 👀\"]  # desired flairs for reliable content\n",
    "top_n = 10 #only top 10 comments will be chosen\n",
    "\n",
    "posts_with_top_comments = []\n",
    "for submission in reddit.subreddit(subreddit).hot(limit=500):\n",
    "    if submission.is_self and submission.score >= min_upvotes:\n",
    "        submission.comment_sort = \"top\"\n",
    "        submission.comments.replace_more(limit=0)\n",
    "        top_comments = []\n",
    "        for i, comment in enumerate(submission.comments):\n",
    "            if i >= top_n:\n",
    "                break\n",
    "            if hasattr(comment, \"body\"):\n",
    "                top_comments.append(comment.body)\n",
    "        posts_with_top_comments.append({\n",
    "            \"title\": submission.title,\n",
    "            \"text\": submission.selftext,\n",
    "            \"score\": submission.score,\n",
    "            \"url\": submission.url,\n",
    "            \"subreddit\": subreddit,\n",
    "            \"top_comments\": top_comments\n",
    "        })\n"
   ]
  },
  {
   "cell_type": "code",
   "execution_count": 6,
   "id": "51d73cdb",
   "metadata": {},
   "outputs": [],
   "source": [
    "def format_post(post):\n",
    "    comments_text = \"\\n\".join(post[\"top_comments\"])\n",
    "    return (\n",
    "        f\"Title: {post['title']}\\n\\n\"\n",
    "        f\"Body: {post['text']}\\n\\n\"\n",
    "        f\"Top Comments:\\n{comments_text}\"\n",
    "    )"
   ]
  },
  {
   "cell_type": "code",
   "execution_count": 7,
   "id": "08eee741",
   "metadata": {},
   "outputs": [],
   "source": [
    "from langchain_experimental.text_splitter import SemanticChunker\n",
    "from langchain_openai.embeddings import OpenAIEmbeddings\n",
    "import os\n",
    "\n",
    "text_splitter = SemanticChunker(OpenAIEmbeddings(model=\"text-embedding-3-small\"), min_chunk_size=512)\n",
    "\n",
    "reddit_chunks = []\n",
    "for post in posts_with_top_comments:\n",
    "    combined_text = format_post(post)\n",
    "    docs = text_splitter.create_documents([combined_text])\n",
    "    for doc in docs:\n",
    "        doc.metadata.update({\n",
    "            \"title\": post[\"title\"],\n",
    "            \"subreddit\": post[\"subreddit\"],\n",
    "            \"url\": post[\"url\"],\n",
    "            \"score\": post[\"score\"]\n",
    "        })\n",
    "        reddit_chunks.append(doc)"
   ]
  },
  {
   "cell_type": "code",
   "execution_count": 8,
   "id": "5a034859",
   "metadata": {},
   "outputs": [],
   "source": [
    "from langchain_community.document_loaders import UnstructuredMarkdownLoader\n",
    "from langchain_text_splitters import MarkdownHeaderTextSplitter, RecursiveCharacterTextSplitter \n",
    "\n",
    "# List your markdown file paths\n",
    "markdown_files = [\"C:/Users/tripa/OneDrive/Desktop/iitkgp_docs/conversion_results/Fresher's_guide.md\",\n",
    "                  \"C:/Users/tripa/OneDrive/Desktop/iitkgp_docs/conversion_results/gymkhana_constitution.md\",\n",
    "                  \"C:/Users/tripa/OneDrive/Desktop/iitkgp_docs/conversion_results/insti_brotherhood_fund.md\",\n",
    "                  \"C:/Users/tripa/OneDrive/Desktop/iitkgp_docs/conversion_results/insti_email_address.md\",\n",
    "                  \"C:/Users/tripa/OneDrive/Desktop/iitkgp_docs/conversion_results/insti_facilities.md\",\n",
    "                  \"C:/Users/tripa/OneDrive/Desktop/iitkgp_docs/conversion_results/insti_formalities.md\",\n",
    "                  \"C:/Users/tripa/OneDrive/Desktop/iitkgp_docs/conversion_results/1st_yr_PG_instruction/1st_yr_PG_instruction.md\",\n",
    "                  \"C:/Users/tripa/OneDrive/Desktop/iitkgp_docs/conversion_results/1st_yr_RS_instruction/conversion_results/1st_yr_RS_instruction/1st_yr_RS_instruction.md\",\n",
    "                  \"C:/Users/tripa/OneDrive/Desktop/iitkgp_docs/conversion_results/1st_yr_UG_instruction/conversion_results/1st_yr_UG_instruction/1st_yr_UG_instruction.md\",\n",
    "                  \"C:/Users/tripa/OneDrive/Desktop/iitkgp_docs/conversion_results/AcademicCalendar2025-26/conversion_results/AcademicCalendar2025-26/AcademicCalendar2025-26.md\",\n",
    "                  \"C:/Users/tripa/OneDrive/Desktop/iitkgp_docs/conversion_results/PaymentInstructions/conversion_results/PaymentInstructions/PaymentInstructions.md\",\n",
    "                  \"C:/Users/tripa/OneDrive/Desktop/iitkgp_docs/conversion_results/rules_&_regulations/rules_&_regulations.md\",\n",
    "                  \"C:/Users/tripa/OneDrive/Desktop/iitkgp_docs/conversion_results/clubs_societies.md\",\n",
    "                  \"C:/Users/tripa/OneDrive/Desktop/iitkgp_docs/conversion_results/food_spots.markdown\"]\n",
    "\n",
    "\n",
    "# Define which headers to split on\n",
    "headers_to_split_on = [\n",
    "                       (\"#\", \"Header 1\"),\n",
    "                       (\"##\", \"Header 2\"),\n",
    "                       (\"###\", \"Header 3\"),\n",
    "                    ]\n",
    "\n",
    "# Initialize the splitter\n",
    "markdown_splitter = MarkdownHeaderTextSplitter(headers_to_split_on=headers_to_split_on)\n",
    "\n",
    "#As we are loading data from multiple files, we need an all_chunks object containing data from each file\n",
    "all_chunks = []\n",
    "\n",
    "for file_path in markdown_files:\n",
    "    with open(file_path, \"r\", encoding=\"utf-8\") as f:\n",
    "        markdown_text = f.read()\n",
    "\n",
    "\n",
    "    # Split the markdown text into chunks (LangChain Document objects)\n",
    "    chunks = markdown_splitter.split_text(markdown_text)\n",
    "    # Further split each header chunk by character or token count\n",
    "    text_splitter = RecursiveCharacterTextSplitter(chunk_size=512, chunk_overlap=200)\n",
    "    final_chunks = text_splitter.split_documents(chunks)\n",
    "    for chunk in final_chunks:\n",
    "        chunk.metadata[\"source_file\"] = file_path\n",
    "    all_chunks.extend(final_chunks)"
   ]
  },
  {
   "cell_type": "code",
   "execution_count": 9,
   "id": "2c65f53a",
   "metadata": {},
   "outputs": [
    {
     "data": {
      "text/plain": [
       "3949"
      ]
     },
     "execution_count": 9,
     "metadata": {},
     "output_type": "execute_result"
    }
   ],
   "source": [
    "len(all_chunks)"
   ]
  },
  {
   "cell_type": "code",
   "execution_count": 10,
   "id": "e02f17d7",
   "metadata": {},
   "outputs": [
    {
     "data": {
      "text/plain": [
       "66"
      ]
     },
     "execution_count": 10,
     "metadata": {},
     "output_type": "execute_result"
    }
   ],
   "source": [
    "len(reddit_chunks)"
   ]
  },
  {
   "cell_type": "code",
   "execution_count": 11,
   "id": "72a76d0e",
   "metadata": {},
   "outputs": [],
   "source": [
    "unique_contents = set()\n",
    "unique_chunks = []\n",
    "\n",
    "for doc in all_chunks:\n",
    "    if doc.page_content not in unique_contents:\n",
    "        unique_contents.add(doc.page_content)\n",
    "        unique_chunks.append(doc)"
   ]
  },
  {
   "cell_type": "code",
   "execution_count": 12,
   "id": "c7ab1462",
   "metadata": {},
   "outputs": [],
   "source": [
    "unique_chunks.extend(reddit_chunks)"
   ]
  },
  {
   "cell_type": "code",
   "execution_count": 13,
   "id": "0b8a2ed9",
   "metadata": {},
   "outputs": [
    {
     "data": {
      "text/plain": [
       "3647"
      ]
     },
     "execution_count": 13,
     "metadata": {},
     "output_type": "execute_result"
    }
   ],
   "source": [
    "len(unique_chunks)"
   ]
  },
  {
   "cell_type": "code",
   "execution_count": 14,
   "id": "a6ee09e2",
   "metadata": {},
   "outputs": [],
   "source": [
    "from langchain_openai import OpenAIEmbeddings\n",
    "import os\n",
    "\n",
    "embeddings = OpenAIEmbeddings(model=\"text-embedding-3-small\")\n",
    "# Assuming `all_chunks` is your list of Document objects\n",
    "# Embedding is handled automatically when adding to a vector store in LangChain"
   ]
  },
  {
   "cell_type": "code",
   "execution_count": null,
   "id": "eb5ce474",
   "metadata": {},
   "outputs": [
    {
     "ename": "AttributeError",
     "evalue": "'Chroma' object has no attribute 'persist'",
     "output_type": "error",
     "traceback": [
      "\u001b[31m---------------------------------------------------------------------------\u001b[39m",
      "\u001b[31mAttributeError\u001b[39m                            Traceback (most recent call last)",
      "\u001b[36mCell\u001b[39m\u001b[36m \u001b[39m\u001b[32mIn[15]\u001b[39m\u001b[32m, line 15\u001b[39m\n\u001b[32m      7\u001b[39m vectorstore_2 = Chroma.from_documents(\n\u001b[32m      8\u001b[39m     documents=unique_chunks,\n\u001b[32m      9\u001b[39m     embedding=embeddings,\n\u001b[32m     10\u001b[39m     persist_directory=persist_directory,  \u001b[38;5;66;03m# Remove this line for in-memory only\u001b[39;00m\n\u001b[32m     11\u001b[39m     \u001b[38;5;66;03m#collection_name=\"my_collection\"       # Optional: name your collection\u001b[39;00m\n\u001b[32m     12\u001b[39m )\n\u001b[32m     14\u001b[39m \u001b[38;5;66;03m# Persist the database to disk\u001b[39;00m\n\u001b[32m---> \u001b[39m\u001b[32m15\u001b[39m \u001b[43mvectorstore_2\u001b[49m\u001b[43m.\u001b[49m\u001b[43mpersist\u001b[49m()\n",
      "\u001b[31mAttributeError\u001b[39m: 'Chroma' object has no attribute 'persist'"
     ]
    }
   ],
   "source": [
    "from langchain_chroma import Chroma\n",
    "\n",
    "# Specify a directory for persistence (optional, but recommended)\n",
    "persist_directory = \"./chroma_db\"\n",
    "\n",
    "# Store your chunks in ChromaDB\n",
    "vectorstore_2 = Chroma.from_documents(\n",
    "    documents=unique_chunks,\n",
    "    embedding=embeddings,\n",
    "    persist_directory=persist_directory,  # Remove this line for in-memory only\n",
    "    #collection_name=\"my_collection\"       # Optional: name your collection\n",
    ")"
   ]
  },
  {
   "cell_type": "code",
   "execution_count": 16,
   "id": "e3c4bcef",
   "metadata": {},
   "outputs": [
    {
     "name": "stdout",
     "output_type": "stream",
     "text": [
      "#### **How to reach IIT KGP**\n",
      "(placements, internships, FTs, competitions) from the students of the campus as well as alumni of the institute.  ===The Campus Tour=== A campus ride is being organized to acquaint freshers about the important places of the campus that a student needs to know. It begins from Technology Students' Gymkhana, IIT Kharagpur (TSG). In 2015, more than 1200 freshers in 28 separate buses were shown the magnificence of the KGP campus with engaging interactions of SWG team with freshers.  ===Information Brochure- A\n",
      "| of IITKGP(if any)                                                                                                  |                                                                                                                                                                                                                                                                                                                   | correct information                          |\n",
      "Kharagpur is known world over for two landmarks. One, the longest railway platform, and the other, the Indian Institute of Technology, more commonly known as IIT. Situated about 120 km west of Kolkata, Kharagpur is well connected to Kolkata by Road and Rail transport. Kharagpur can be reached in about 2 hours by train or 3 hours by car from Howrah railway station of Kolkata. Kharagpur is also connected by direct train services to most major cities of the country. The Institute is about 10 minutes drive (5\n",
      "|IIT Kharagpur provides an official email id with domain name '''kgpian.iitkgp.ac.in''' to all its students and staff. Every student is asked for their preferred email id at the time of their admission on ERP. They are provided with their password and complete facility by the end of their first academic session.  ==History==  As of today 30 April 2018, Your Institute ID is already generated when you take admission in any course and fill-up all the details in your ERP account.  '''No need to write any email\n",
      "by train or 3 hours by car from Howrah railway station of Kolkata. Kharagpur is also connected by direct train services to most major cities of the country. The Institute is about 10 minutes drive (5 km) from the Kharagpur railway station. Private taxi, auto-rickshaw or cycle-rickshaw can be hired to reach the Institute.\n",
      "towards IIT Kharagpur, identify policies and procedures of the institute with stakeholder interest, and plans and executes programs to earn understanding and acceptance. Essentially, we build the IIT Kharagpur brand that lets the world recognise us, know what to expect from us and puts across to the world ‘dedicated to the service of the nation’. We are the bridge between IIT Kharagpur and the target market of the brand which comprises of aspirants and students, faculties in India and abroad, the media\n",
      "IIT Kharagpur is a very student friendly place and all efforts are made to ensure that the students are provided the best opportunities that are needed to create outstanding pool of human resources to meet the global challenges in all spheres.  \n",
      "The students are required to follow certain procedures and meet specified academic requirements each semester. This booklet gives comprehensive information on the existing Rules and Regulations for B.Tech.(Hons.), Dual Degree and M.Sc. Programs.\n",
      "Title: Joining IIT KGP this season. Body: Is it safe for Girls? Genuine fear rn. Top Comments:\n",
      "its the safest I've felt. Except for the dogs. But ig you could always out-cycle them\n",
      "Yeah, probably the only place you will see girls safely walking around the campus at 3 in thr morning. It is pretty safe. Don't worry... The campus is 2100 acres, and the whole campus is pretty safe... The only threat is dogs\n",
      "Yes, it is safe. you have police station beside SNIG Hall. Outside campus there rumors of chain snatching.(11pm-4am Puri gate will be closed). No fear, just Study Well and Enjoy. Yes it is, no worries. Even when I return to my room late after midnight, there is no fear at all.\n",
      "IIT Kharagpur provides students ample opportunities to engage in technical activities. Students can join a [[List of student run research groups\"| student run research group]], selection for these organizations usually happen in the spring semester. You can also approach a professor asking them for a project in their area of interest. You can search professors by their area of interest using [https://metakgp.github.io/mcmp/ MCMP]. You can find when a particular professor is free by using\n"
     ]
    }
   ],
   "source": [
    "query = \"How to reach IIT KGP campus\"\n",
    "retrieved_docs = vectorstore_2.similarity_search(query, k=10)\n",
    "for doc in retrieved_docs:\n",
    "    print(doc.page_content)"
   ]
  },
  {
   "cell_type": "code",
   "execution_count": 17,
   "id": "131aac60",
   "metadata": {},
   "outputs": [],
   "source": [
    "from langchain_openai import ChatOpenAI\n",
    "\n",
    "llm = ChatOpenAI(model=\"gpt-4o\", temperature=0.1)"
   ]
  },
  {
   "cell_type": "code",
   "execution_count": 18,
   "id": "7a2cd6f4",
   "metadata": {},
   "outputs": [],
   "source": [
    "retriever = vectorstore_2.as_retriever(search_kwargs={\"k\": 10})  # Adjust k as needed"
   ]
  },
  {
   "cell_type": "code",
   "execution_count": 19,
   "id": "850fe01c",
   "metadata": {},
   "outputs": [],
   "source": [
    "from langchain_core.prompts import PromptTemplate\n",
    "\n",
    "prompt_template = \"\"\"Use the following context to answer the question.\n",
    "If you don't know the answer, say you don't know.\n",
    "Context: {context}\n",
    "Question: {question}\n",
    "Answer:\"\"\"\n",
    "\n",
    "QA_PROMPT = PromptTemplate(\n",
    "    template=prompt_template,\n",
    "    input_variables=[\"context\", \"question\"]\n",
    ")"
   ]
  },
  {
   "cell_type": "code",
   "execution_count": 20,
   "id": "19eed2e9",
   "metadata": {},
   "outputs": [],
   "source": [
    "from langchain.chains import RetrievalQA\n",
    "\n",
    "qa_chain = RetrievalQA.from_chain_type(\n",
    "    llm=llm,\n",
    "    retriever=retriever,\n",
    "    chain_type=\"stuff\",  # \"stuff\" is the default; alternatives: \"map_reduce\", \"refine\", \"map_rerank\"\n",
    "    chain_type_kwargs={\"prompt\": QA_PROMPT}\n",
    ")"
   ]
  },
  {
   "cell_type": "code",
   "execution_count": 21,
   "id": "1803a8d7",
   "metadata": {},
   "outputs": [
    {
     "name": "stderr",
     "output_type": "stream",
     "text": [
      "C:\\Users\\tripa\\AppData\\Local\\Temp\\ipykernel_4432\\2034558559.py:2: LangChainDeprecationWarning: The method `Chain.__call__` was deprecated in langchain 0.1.0 and will be removed in 1.0. Use :meth:`~invoke` instead.\n",
      "  result = qa_chain({\"query\": query})\n"
     ]
    },
    {
     "name": "stdout",
     "output_type": "stream",
     "text": [
      "CodeClub embarrassed IIT Kharagpur by hosting a Codeforces contest that was poorly managed, leading to a ranklist filled with suspiciously high performances from typically low-rated participants. This raised allegations of cheating and unfair practices, as many participants who usually struggle with simpler problems were suddenly solving complex ones with ease. The situation was exacerbated by the absence of high-rated participants like Masters, Candidate Masters, or Grandmasters, which further questioned the contest's credibility. The event reflected poorly on the club's ability to maintain fairness and uphold the competitive programming standards expected from a prestigious institution like IIT Kharagpur.\n"
     ]
    }
   ],
   "source": [
    "query = \"how did CodeClub embarass IIT?\"\n",
    "result = qa_chain({\"query\": query})\n",
    "print(result[\"result\"])"
   ]
  },
  {
   "cell_type": "code",
   "execution_count": 22,
   "id": "a5356ffb",
   "metadata": {},
   "outputs": [
    {
     "name": "stdout",
     "output_type": "stream",
     "text": [
      "content=\"I'm not aware of any specific incident where CodeClub embarrassed IIT. It's possible that you might be referring to a local or specific event that hasn't been widely reported or documented in the sources available to me. CodeClub is generally known for promoting coding and computer science education among young students, while IITs (Indian Institutes of Technology) are prestigious engineering institutions in India. If you have more details or context about the incident, I might be able to provide more information or clarification.\" additional_kwargs={'refusal': None} response_metadata={'token_usage': {'completion_tokens': 94, 'prompt_tokens': 15, 'total_tokens': 109, 'completion_tokens_details': {'accepted_prediction_tokens': 0, 'audio_tokens': 0, 'reasoning_tokens': 0, 'rejected_prediction_tokens': 0}, 'prompt_tokens_details': {'audio_tokens': 0, 'cached_tokens': 0}}, 'model_name': 'gpt-4o-2024-08-06', 'system_fingerprint': 'fp_07871e2ad8', 'id': 'chatcmpl-BpiiAklQCSfIfpBXRQeaV7BnqdMb2', 'service_tier': 'default', 'finish_reason': 'stop', 'logprobs': None} id='run--80eae176-dede-4957-a5c1-1cbcb830bcea-0' usage_metadata={'input_tokens': 15, 'output_tokens': 94, 'total_tokens': 109, 'input_token_details': {'audio': 0, 'cache_read': 0}, 'output_token_details': {'audio': 0, 'reasoning': 0}}\n"
     ]
    }
   ],
   "source": [
    "result_original = llm.invoke(query)\n",
    "print(result_original)"
   ]
  },
  {
   "cell_type": "code",
   "execution_count": 23,
   "id": "dfff1f1d",
   "metadata": {},
   "outputs": [
    {
     "name": "stdout",
     "output_type": "stream",
     "text": [
      "content='As of my last update, the Technology Robotix Society (TRS) at IIT Kharagpur does not have a position specifically titled \"governor of TRAPs.\" TRAPs, or Technology Robotix Society Annual Projects, are typically managed by the society\\'s core team or coordinators. For the most current information, you may want to check the official website of the Technology Robotix Society or contact them directly through their official communication channels.' additional_kwargs={'refusal': None} response_metadata={'token_usage': {'completion_tokens': 92, 'prompt_tokens': 21, 'total_tokens': 113, 'completion_tokens_details': {'accepted_prediction_tokens': 0, 'audio_tokens': 0, 'reasoning_tokens': 0, 'rejected_prediction_tokens': 0}, 'prompt_tokens_details': {'audio_tokens': 0, 'cached_tokens': 0}}, 'model_name': 'gpt-4o-2024-08-06', 'system_fingerprint': 'fp_07871e2ad8', 'id': 'chatcmpl-BpiiI03lpkLIpMiJtIGX4LrP5ylkg', 'service_tier': 'default', 'finish_reason': 'stop', 'logprobs': None} id='run--2f965007-6131-466b-b017-06e823ffc411-0' usage_metadata={'input_tokens': 21, 'output_tokens': 92, 'total_tokens': 113, 'input_token_details': {'audio': 0, 'cache_read': 0}, 'output_token_details': {'audio': 0, 'reasoning': 0}}\n"
     ]
    }
   ],
   "source": [
    "query = \"Who is the governor of TRAPs at IIT Kharagpur\"\n",
    "result_original = llm.invoke(query)\n",
    "print(result_original)"
   ]
  }
 ],
 "metadata": {
  "kernelspec": {
   "display_name": "venv",
   "language": "python",
   "name": "python3"
  },
  "language_info": {
   "codemirror_mode": {
    "name": "ipython",
    "version": 3
   },
   "file_extension": ".py",
   "mimetype": "text/x-python",
   "name": "python",
   "nbconvert_exporter": "python",
   "pygments_lexer": "ipython3",
   "version": "3.12.10"
  }
 },
 "nbformat": 4,
 "nbformat_minor": 5
}
